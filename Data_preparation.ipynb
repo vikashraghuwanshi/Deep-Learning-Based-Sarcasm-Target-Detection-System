{
 "cells": [
  {
   "cell_type": "code",
   "execution_count": 1,
   "metadata": {},
   "outputs": [],
   "source": [
    "import pandas as pd\n",
    "import numpy as np\n",
    "from nltk.tokenize import RegexpTokenizer\n",
    "from nltk.tokenize.treebank import TreebankWordDetokenizer\n",
    "import pickle\n",
    "import codecs"
   ]
  },
  {
   "cell_type": "code",
   "execution_count": 2,
   "metadata": {},
   "outputs": [],
   "source": [
    "tokenizer = RegexpTokenizer(r'\\w+')\n",
    "detokenizer = TreebankWordDetokenizer()"
   ]
  },
  {
   "cell_type": "code",
   "execution_count": 3,
   "metadata": {},
   "outputs": [],
   "source": [
    "colnames=['Snippets', 'Targets'] \n",
    "df = pd.read_csv('dataset.csv', names=colnames, header=None)\n",
    "#df=pd.read_csv('dataset.csv',header = None)\n",
    "#print(df)\n",
    "embedding_file = './crawl-300d-2M.vec'"
   ]
  },
  {
   "cell_type": "code",
   "execution_count": 4,
   "metadata": {},
   "outputs": [],
   "source": [
    "def loadEmbed():\n",
    "    print('loading word embeddings...')\n",
    "    embeddings_index = {}\n",
    "    f = codecs.open(embedding_file, encoding='utf-8')\n",
    "    #flag = True\n",
    "    for line in f:\n",
    "        values = line.rstrip().rsplit(' ')\n",
    "        #if flag:\n",
    "            #print(values)\n",
    "            #flag = False\n",
    "        word = values[0]\n",
    "        coefs = np.asarray(values[1:], dtype='float32')\n",
    "        embeddings_index[word] = coefs\n",
    "    f.close()\n",
    "    print('found %s word vectors' % len(embeddings_index))\n",
    "    return embeddings_index"
   ]
  },
  {
   "cell_type": "code",
   "execution_count": 5,
   "metadata": {},
   "outputs": [
    {
     "name": "stdout",
     "output_type": "stream",
     "text": [
      "loading word embeddings...\n",
      "found 1999996 word vectors\n"
     ]
    }
   ],
   "source": [
    "#Loading pre-trained embeddings\n",
    "model=loadEmbed()"
   ]
  },
  {
   "cell_type": "code",
   "execution_count": 6,
   "metadata": {},
   "outputs": [],
   "source": [
    "all_words=[]\n",
    "for i in range(len(df['Snippets'])):\n",
    "    all_words.extend(df['Snippets'][i].split())\n",
    "all_words=list(dict.fromkeys(all_words))\n",
    "all_words=[x.lower() for x in all_words]"
   ]
  },
  {
   "cell_type": "code",
   "execution_count": 7,
   "metadata": {},
   "outputs": [],
   "source": [
    "embeddings={}\n",
    "for each in all_words:\n",
    "    if each.lower() not in model.keys():\n",
    "        embeddings[each]=model['unk']\n",
    "    else:\n",
    "        embeddings[each]=model[each.lower()]"
   ]
  },
  {
   "cell_type": "code",
   "execution_count": 8,
   "metadata": {},
   "outputs": [],
   "source": [
    "ppd=pd.read_csv('pre_processed_dataset.csv',encoding='cp1252')\n",
    "length_l=[]\n",
    "for i in range(len(ppd['left_context'])):\n",
    "    length_l.append(len(tokenizer.tokenize(ppd['left_context'][i])))\n",
    "length_r=[]\n",
    "for i in range(len(ppd['right_context'])):\n",
    "    length_r.append(len(tokenizer.tokenize(ppd['right_context'][i])))\n",
    "\n"
   ]
  },
  {
   "cell_type": "code",
   "execution_count": 9,
   "metadata": {},
   "outputs": [],
   "source": [
    "embeddings['<pad>']= [0]*300\n",
    "\n",
    "# Embedding Left Context \n",
    "keras_left_context=[]\n",
    "for i in range(len(ppd['left_context'])):\n",
    "    one_vector=[]\n",
    "    temp=tokenizer.tokenize(ppd['left_context'][i])\n",
    "    one_vector.append(model['start'])\n",
    "    for m in temp[1:]:\n",
    "        try:\n",
    "            a = embeddings[m.lower()]\n",
    "        except KeyError:\n",
    "            continue\n",
    "        one_vector.append(a)\n",
    "    one_vector.extend([embeddings['<pad>'] for x in range(78-length_l[i])])\n",
    "    keras_left_context.append(one_vector)\n",
    "\n"
   ]
  },
  {
   "cell_type": "code",
   "execution_count": 10,
   "metadata": {},
   "outputs": [],
   "source": [
    "# Embedding Right Context \n",
    "keras_right_context=[]\n",
    "for i in range(len(ppd['right_context'])):\n",
    "    one_vector=[]\n",
    "    temp=tokenizer.tokenize(ppd['right_context'][i])\n",
    "    for m in temp[1:]:\n",
    "        try:\n",
    "            one_vector.append(embeddings[m.lower()])\n",
    "        except KeyError:\n",
    "            continue\n",
    "    one_vector.append(model['end'])\n",
    "    one_vector.extend([embeddings['<pad>'] for x in range(78-length_r[i])])\n",
    "    keras_right_context.append(one_vector)\n",
    "keras_middle=[]\n",
    "\n",
    "# Embedding Candidate Word\n",
    "for i in range(len(ppd['Candidate_words'])):\n",
    "    keras_middle.append(embeddings[ppd['Candidate_words'][i].lower()])\n",
    "\n",
    "#Saving the processed dataset in a pickle file\n",
    "f = open(b\"Data_fast.pkl\",\"wb\")\n",
    "pickle.dump(zip(keras_left_context,keras_right_context,keras_middle,ppd['target_status']),f)"
   ]
  }
 ],
 "metadata": {
  "kernelspec": {
   "display_name": "Python 3",
   "language": "python",
   "name": "python3"
  },
  "language_info": {
   "codemirror_mode": {
    "name": "ipython",
    "version": 3
   },
   "file_extension": ".py",
   "mimetype": "text/x-python",
   "name": "python",
   "nbconvert_exporter": "python",
   "pygments_lexer": "ipython3",
   "version": "3.8.5"
  }
 },
 "nbformat": 4,
 "nbformat_minor": 4
}
