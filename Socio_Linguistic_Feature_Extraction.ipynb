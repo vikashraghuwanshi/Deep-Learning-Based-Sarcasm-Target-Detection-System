{
 "cells": [
  {
   "cell_type": "code",
   "execution_count": 1,
   "metadata": {},
   "outputs": [],
   "source": [
    "import pickle\n",
    "import pandas as pd\n",
    "import numpy as np\n",
    "from nltk.tag import StanfordPOSTagger\n",
    "from nltk.tag import StanfordNERTagger\n",
    "#from Liwc_Trie_Functions import create_trie, get_liwc_categories\n",
    "from sklearn.preprocessing import OneHotEncoder\n",
    "from sklearn.preprocessing import LabelEncoder\n",
    "from nltk import word_tokenize\n",
    "from empath import Empath"
   ]
  },
  {
   "cell_type": "code",
   "execution_count": 2,
   "metadata": {},
   "outputs": [],
   "source": [
    "colnames=['Snippets', 'Targets'] \n",
    "df = pd.read_csv('dataset.csv', names=colnames, header=None)\n",
    "#df=pd.read_csv('dataset.csv')\n",
    "ppd=pd.read_csv('pre_processed_dataset.csv',encoding='cp1252')\n",
    "\n",
    "ohe=OneHotEncoder()\n",
    "lb=LabelEncoder()\n",
    "\n",
    "# Using Stanford NER Tagger API\n",
    "jar_n = 'stanford-ner-2018-10-16/stanford-ner-3.9.2.jar'\n",
    "model_n = 'stanford-ner-2018-10-16/classifiers/english.all.3class.distsim.crf.ser.gz'\n",
    "ner_tagger = StanfordNERTagger(model_n, jar_n, encoding='utf8')\n",
    "\n",
    "# Using Stanford POS Tagger API\n",
    "jar = 'stanford-postagger-full-2018-10-16/stanford-postagger-3.9.2.jar'\n",
    "model = 'stanford-postagger-full-2018-10-16/models/english-left3words-distsim.tagger'\n",
    "pos_tagger = StanfordPOSTagger(model, jar, encoding='utf8')\n"
   ]
  },
  {
   "cell_type": "code",
   "execution_count": 3,
   "metadata": {},
   "outputs": [],
   "source": [
    "import os\n",
    "java_path = \"C:/Program Files/Java/jdk-15.0.2/bin/java.exe\"\n",
    "os.environ['JAVAHOME'] = java_path\n",
    "\n",
    "# Extracting POS Features\n",
    "POS_snippets=[]\n",
    "for i in range(len(df['Snippets'])):\n",
    "    POS_snippets.extend(pos_tagger.tag(word_tokenize(df['Snippets'][i])))\n",
    "POS_snippets_type=[x[1] for x in POS_snippets]\n",
    "POS_snippets_type=lb.fit_transform(POS_snippets_type)\n",
    "pos_vec=ohe.fit_transform(np.reshape(POS_snippets_type,(-1, 1)))\n",
    "pos_vec=pos_vec.todense()\n"
   ]
  },
  {
   "cell_type": "code",
   "execution_count": 4,
   "metadata": {},
   "outputs": [],
   "source": [
    "\n",
    "# Extracting NER Features\n",
    "ner_snippets=[]\n",
    "for i in range(len(df['Snippets'])):\n",
    "    ner_snippets.extend(ner_tagger.tag(word_tokenize(df['Snippets'][i])))\n",
    "ner_snippets_type=[x[1] for x in ner_snippets]\n",
    "ner_snippets_type=lb.fit_transform(ner_snippets_type)\n",
    "ner_vec=ohe.fit_transform(np.reshape(ner_snippets_type,(-1, 1)))\n",
    "ner_vec=ner_vec.todense()\n",
    "\n",
    "# Extracting Empath Features\n",
    "lexicon = Empath()\n",
    "empath_vec=[]\n",
    "for text in ppd['Candidate_words']:\n",
    "    a=lexicon.analyze(text, normalize=True)\n",
    "    bv=[]\n",
    "    for i in a.values():\n",
    "        bv.append(i)\n",
    "    empath_vec.append(bv)\n"
   ]
  },
  {
   "cell_type": "code",
   "execution_count": 5,
   "metadata": {},
   "outputs": [],
   "source": [
    "#Dumping extracted features in a pickle file \n",
    "f = open(b\"Data_aug.pkl\",\"wb\")\n",
    "#pickle.dump(zip(pos_vec, ner_vec, liwx_vec,empath_vec),f,protocol = 2)\n",
    "pickle.dump(zip(pos_vec, ner_vec, empath_vec),f,protocol = 2)"
   ]
  },
  {
   "cell_type": "code",
   "execution_count": null,
   "metadata": {},
   "outputs": [],
   "source": []
  }
 ],
 "metadata": {
  "kernelspec": {
   "display_name": "Python 3",
   "language": "python",
   "name": "python3"
  },
  "language_info": {
   "codemirror_mode": {
    "name": "ipython",
    "version": 3
   },
   "file_extension": ".py",
   "mimetype": "text/x-python",
   "name": "python",
   "nbconvert_exporter": "python",
   "pygments_lexer": "ipython3",
   "version": "3.8.5"
  }
 },
 "nbformat": 4,
 "nbformat_minor": 4
}
